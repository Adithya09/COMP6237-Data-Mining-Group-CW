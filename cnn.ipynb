{
  "cells": [
    {
      "cell_type": "code",
      "execution_count": 1,
      "metadata": {
        "id": "UfOhTB5UdA-G"
      },
      "outputs": [],
      "source": [
        "import torch\n",
        "import torchvision as tv\n",
        "from torch.utils.data import DataLoader, random_split\n",
        "from torchvision.transforms import ToTensor\n",
        "import torch.nn as nn\n",
        "import matplotlib.pyplot as plt\n",
        "from torchvision import transforms, datasets\n",
        "from sklearn.model_selection import KFold\n",
        "import numpy as np\n",
        "import torch.optim as optim\n",
        "from tqdm.auto import tqdm\n",
        "from timeit import default_timer as timer\n",
        "from copy import deepcopy\n",
        "from torchvision import transforms\n",
        "from torch.utils.data import Dataset\n",
        "from sklearn.model_selection import train_test_split\n",
        "import pandas as pd\n",
        "from torch.utils.data import TensorDataset, DataLoader\n",
        "import torch\n",
        "import torch.nn as nn\n",
        "import torch.nn.functional as F\n",
        "from sklearn.metrics import precision_score, recall_score, f1_score, confusion_matrix, accuracy_score\n",
        "import seaborn as sns\n",
        "from imblearn.over_sampling import SMOTE\n",
        "from sklearn.preprocessing import StandardScaler\n",
        "from sklearn.metrics import confusion_matrix\n",
        "from torch.optim.lr_scheduler import StepLR"
      ]
    },
    {
      "cell_type": "code",
      "execution_count": 2,
      "metadata": {
        "id": "0Uh6yQlZdGLs"
      },
      "outputs": [],
      "source": [
        "try:\n",
        "   from torchmetrics import ConfusionMatrix\n",
        "except:\n",
        "    !pip install torchmetrics\n",
        "    from torchmetrics import ConfusionMatrix\n",
        "\n",
        "conmat=ConfusionMatrix(task='multiclass',num_classes=3)\n",
        "conmat=conmat"
      ]
    },
    {
      "cell_type": "code",
      "execution_count": 3,
      "metadata": {
        "colab": {
          "base_uri": "https://localhost:8080/"
        },
        "id": "9GKp0hJNdIUJ",
        "outputId": "0643e47c-3572-452b-c78c-ac38f5f7802a"
      },
      "outputs": [
        {
          "name": "stdout",
          "output_type": "stream",
          "text": [
            "Using cuda device\n"
          ]
        }
      ],
      "source": [
        "# Check if CUDA is available, otherwise use CPU\n",
        "device = torch.device(\"cuda\" if torch.cuda.is_available() else \"cpu\")\n",
        "print(f\"Using {device} device\")"
      ]
    },
    {
      "cell_type": "code",
      "execution_count": 4,
      "metadata": {
        "id": "uTpWaoshdJeD"
      },
      "outputs": [],
      "source": [
        "torch.manual_seed(71)\n",
        "torch.cuda.manual_seed(71)"
      ]
    },
    {
      "cell_type": "code",
      "execution_count": 5,
      "metadata": {
        "colab": {
          "base_uri": "https://localhost:8080/"
        },
        "id": "xHv8fxBSdKeb",
        "outputId": "f8617d33-cb46-4fdd-a91d-93136a15c745"
      },
      "outputs": [
        {
          "name": "stdout",
          "output_type": "stream",
          "text": [
            "Drive already mounted at /content/drive; to attempt to forcibly remount, call drive.mount(\"/content/drive\", force_remount=True).\n"
          ]
        }
      ],
      "source": [
        "from google.colab import drive\n",
        "drive.mount('/content/drive')"
      ]
    },
    {
      "cell_type": "markdown",
      "metadata": {
        "id": "IYnfyo_ddMTz"
      },
      "source": [
        "# Loading data"
      ]
    },
    {
      "cell_type": "code",
      "execution_count": 6,
      "metadata": {
        "id": "vrY5YrGYdLid"
      },
      "outputs": [],
      "source": [
        "train_dir = \"/content/drive/MyDrive/DataMiningCW/train\"\n",
        "test_dir = \"/content/drive/MyDrive/DataMiningCW/test\"\n"
      ]
    },
    {
      "cell_type": "code",
      "execution_count": 7,
      "metadata": {
        "id": "Ou1vWMrBekgX"
      },
      "outputs": [],
      "source": [
        "data = pd.read_csv('/content/drive/MyDrive/DataMiningCW/train.csv', usecols=['ID', 'Annual_Income', 'Monthly_Inhand_Salary', 'Num_Credit_Card', 'Interest_Rate', 'Delay_from_due_date', 'Changed_Credit_Limit', 'Num_Credit_Inquiries', 'Outstanding_Debt', 'Total_EMI_per_month', 'Credit_Score'])"
      ]
    },
    {
      "cell_type": "code",
      "execution_count": 8,
      "metadata": {
        "colab": {
          "base_uri": "https://localhost:8080/",
          "height": 226
        },
        "id": "dKbX2Rbjhv2w",
        "outputId": "0114f494-34e8-4a96-ad02-791f6b0f0911"
      },
      "outputs": [
        {
          "data": {
            "application/vnd.google.colaboratory.intrinsic+json": {
              "summary": "{\n  \"name\": \"data\",\n  \"rows\": 100000,\n  \"fields\": [\n    {\n      \"column\": \"ID\",\n      \"properties\": {\n        \"dtype\": \"number\",\n        \"std\": 43301,\n        \"min\": 5634,\n        \"max\": 155629,\n        \"num_unique_values\": 100000,\n        \"samples\": [\n          119215,\n          125910,\n          35430\n        ],\n        \"semantic_type\": \"\",\n        \"description\": \"\"\n      }\n    },\n    {\n      \"column\": \"Annual_Income\",\n      \"properties\": {\n        \"dtype\": \"number\",\n        \"std\": 38299.422092538225,\n        \"min\": 7005.93,\n        \"max\": 179987.28,\n        \"num_unique_values\": 12488,\n        \"samples\": [\n          9675.845,\n          51182.85000000001,\n          77004.92\n        ],\n        \"semantic_type\": \"\",\n        \"description\": \"\"\n      }\n    },\n    {\n      \"column\": \"Monthly_Inhand_Salary\",\n      \"properties\": {\n        \"dtype\": \"number\",\n        \"std\": 3186.432496982769,\n        \"min\": 303.6454166666666,\n        \"max\": 15204.633333333331,\n        \"num_unique_values\": 13241,\n        \"samples\": [\n          8130.152481107366,\n          14458.336666666668,\n          532.1195833333334\n        ],\n        \"semantic_type\": \"\",\n        \"description\": \"\"\n      }\n    },\n    {\n      \"column\": \"Num_Credit_Card\",\n      \"properties\": {\n        \"dtype\": \"number\",\n        \"std\": 2.0670983972849095,\n        \"min\": 0.0,\n        \"max\": 11.0,\n        \"num_unique_values\": 12,\n        \"samples\": [\n          11.0,\n          10.0,\n          4.0\n        ],\n        \"semantic_type\": \"\",\n        \"description\": \"\"\n      }\n    },\n    {\n      \"column\": \"Interest_Rate\",\n      \"properties\": {\n        \"dtype\": \"number\",\n        \"std\": 8.741330275315642,\n        \"min\": 1.0,\n        \"max\": 34.0,\n        \"num_unique_values\": 34,\n        \"samples\": [\n          31.0,\n          9.0,\n          30.0\n        ],\n        \"semantic_type\": \"\",\n        \"description\": \"\"\n      }\n    },\n    {\n      \"column\": \"Delay_from_due_date\",\n      \"properties\": {\n        \"dtype\": \"number\",\n        \"std\": 14.804559911116629,\n        \"min\": 0.0,\n        \"max\": 62.0,\n        \"num_unique_values\": 63,\n        \"samples\": [\n          40.0,\n          42.0,\n          3.0\n        ],\n        \"semantic_type\": \"\",\n        \"description\": \"\"\n      }\n    },\n    {\n      \"column\": \"Changed_Credit_Limit\",\n      \"properties\": {\n        \"dtype\": \"number\",\n        \"std\": 6.609480675808788,\n        \"min\": 0.5,\n        \"max\": 29.98,\n        \"num_unique_values\": 3452,\n        \"samples\": [\n          14.3,\n          10.97,\n          3.48\n        ],\n        \"semantic_type\": \"\",\n        \"description\": \"\"\n      }\n    },\n    {\n      \"column\": \"Num_Credit_Inquiries\",\n      \"properties\": {\n        \"dtype\": \"number\",\n        \"std\": 3.8678258153987986,\n        \"min\": 0.0,\n        \"max\": 17.0,\n        \"num_unique_values\": 18,\n        \"samples\": [\n          4.0,\n          2.0,\n          0.0\n        ],\n        \"semantic_type\": \"\",\n        \"description\": \"\"\n      }\n    },\n    {\n      \"column\": \"Outstanding_Debt\",\n      \"properties\": {\n        \"dtype\": \"number\",\n        \"std\": 1155.1290257464573,\n        \"min\": 0.23,\n        \"max\": 4998.07,\n        \"num_unique_values\": 12203,\n        \"samples\": [\n          387.9,\n          805.57,\n          1048.26\n        ],\n        \"semantic_type\": \"\",\n        \"description\": \"\"\n      }\n    },\n    {\n      \"column\": \"Total_EMI_per_month\",\n      \"properties\": {\n        \"dtype\": \"number\",\n        \"std\": 132.26705619939543,\n        \"min\": 0.0,\n        \"max\": 1779.1032538262775,\n        \"num_unique_values\": 11890,\n        \"samples\": [\n          63.59763134090448,\n          81.1712027789807,\n          126.5968143795764\n        ],\n        \"semantic_type\": \"\",\n        \"description\": \"\"\n      }\n    },\n    {\n      \"column\": \"Credit_Score\",\n      \"properties\": {\n        \"dtype\": \"category\",\n        \"num_unique_values\": 3,\n        \"samples\": [\n          \"Good\",\n          \"Standard\",\n          \"Poor\"\n        ],\n        \"semantic_type\": \"\",\n        \"description\": \"\"\n      }\n    }\n  ]\n}",
              "type": "dataframe",
              "variable_name": "data"
            },
            "text/html": [
              "\n",
              "  <div id=\"df-41cba4f0-5702-4286-a4b7-b860c26b2a52\" class=\"colab-df-container\">\n",
              "    <div>\n",
              "<style scoped>\n",
              "    .dataframe tbody tr th:only-of-type {\n",
              "        vertical-align: middle;\n",
              "    }\n",
              "\n",
              "    .dataframe tbody tr th {\n",
              "        vertical-align: top;\n",
              "    }\n",
              "\n",
              "    .dataframe thead th {\n",
              "        text-align: right;\n",
              "    }\n",
              "</style>\n",
              "<table border=\"1\" class=\"dataframe\">\n",
              "  <thead>\n",
              "    <tr style=\"text-align: right;\">\n",
              "      <th></th>\n",
              "      <th>ID</th>\n",
              "      <th>Annual_Income</th>\n",
              "      <th>Monthly_Inhand_Salary</th>\n",
              "      <th>Num_Credit_Card</th>\n",
              "      <th>Interest_Rate</th>\n",
              "      <th>Delay_from_due_date</th>\n",
              "      <th>Changed_Credit_Limit</th>\n",
              "      <th>Num_Credit_Inquiries</th>\n",
              "      <th>Outstanding_Debt</th>\n",
              "      <th>Total_EMI_per_month</th>\n",
              "      <th>Credit_Score</th>\n",
              "    </tr>\n",
              "  </thead>\n",
              "  <tbody>\n",
              "    <tr>\n",
              "      <th>0</th>\n",
              "      <td>5634</td>\n",
              "      <td>19114.12</td>\n",
              "      <td>1824.843333</td>\n",
              "      <td>4.0</td>\n",
              "      <td>3.0</td>\n",
              "      <td>3.0</td>\n",
              "      <td>11.27</td>\n",
              "      <td>4.0</td>\n",
              "      <td>809.98</td>\n",
              "      <td>49.574949</td>\n",
              "      <td>Good</td>\n",
              "    </tr>\n",
              "    <tr>\n",
              "      <th>1</th>\n",
              "      <td>5635</td>\n",
              "      <td>19114.12</td>\n",
              "      <td>1824.843333</td>\n",
              "      <td>4.0</td>\n",
              "      <td>3.0</td>\n",
              "      <td>3.0</td>\n",
              "      <td>11.27</td>\n",
              "      <td>4.0</td>\n",
              "      <td>809.98</td>\n",
              "      <td>49.574949</td>\n",
              "      <td>Good</td>\n",
              "    </tr>\n",
              "    <tr>\n",
              "      <th>2</th>\n",
              "      <td>5636</td>\n",
              "      <td>19114.12</td>\n",
              "      <td>1824.843333</td>\n",
              "      <td>4.0</td>\n",
              "      <td>3.0</td>\n",
              "      <td>3.0</td>\n",
              "      <td>11.27</td>\n",
              "      <td>4.0</td>\n",
              "      <td>809.98</td>\n",
              "      <td>49.574949</td>\n",
              "      <td>Good</td>\n",
              "    </tr>\n",
              "    <tr>\n",
              "      <th>3</th>\n",
              "      <td>5637</td>\n",
              "      <td>19114.12</td>\n",
              "      <td>1824.843333</td>\n",
              "      <td>4.0</td>\n",
              "      <td>3.0</td>\n",
              "      <td>5.0</td>\n",
              "      <td>6.27</td>\n",
              "      <td>4.0</td>\n",
              "      <td>809.98</td>\n",
              "      <td>49.574949</td>\n",
              "      <td>Good</td>\n",
              "    </tr>\n",
              "    <tr>\n",
              "      <th>4</th>\n",
              "      <td>5638</td>\n",
              "      <td>19114.12</td>\n",
              "      <td>1824.843333</td>\n",
              "      <td>4.0</td>\n",
              "      <td>3.0</td>\n",
              "      <td>6.0</td>\n",
              "      <td>11.27</td>\n",
              "      <td>4.0</td>\n",
              "      <td>809.98</td>\n",
              "      <td>49.574949</td>\n",
              "      <td>Good</td>\n",
              "    </tr>\n",
              "  </tbody>\n",
              "</table>\n",
              "</div>\n",
              "    <div class=\"colab-df-buttons\">\n",
              "\n",
              "  <div class=\"colab-df-container\">\n",
              "    <button class=\"colab-df-convert\" onclick=\"convertToInteractive('df-41cba4f0-5702-4286-a4b7-b860c26b2a52')\"\n",
              "            title=\"Convert this dataframe to an interactive table.\"\n",
              "            style=\"display:none;\">\n",
              "\n",
              "  <svg xmlns=\"http://www.w3.org/2000/svg\" height=\"24px\" viewBox=\"0 -960 960 960\">\n",
              "    <path d=\"M120-120v-720h720v720H120Zm60-500h600v-160H180v160Zm220 220h160v-160H400v160Zm0 220h160v-160H400v160ZM180-400h160v-160H180v160Zm440 0h160v-160H620v160ZM180-180h160v-160H180v160Zm440 0h160v-160H620v160Z\"/>\n",
              "  </svg>\n",
              "    </button>\n",
              "\n",
              "  <style>\n",
              "    .colab-df-container {\n",
              "      display:flex;\n",
              "      gap: 12px;\n",
              "    }\n",
              "\n",
              "    .colab-df-convert {\n",
              "      background-color: #E8F0FE;\n",
              "      border: none;\n",
              "      border-radius: 50%;\n",
              "      cursor: pointer;\n",
              "      display: none;\n",
              "      fill: #1967D2;\n",
              "      height: 32px;\n",
              "      padding: 0 0 0 0;\n",
              "      width: 32px;\n",
              "    }\n",
              "\n",
              "    .colab-df-convert:hover {\n",
              "      background-color: #E2EBFA;\n",
              "      box-shadow: 0px 1px 2px rgba(60, 64, 67, 0.3), 0px 1px 3px 1px rgba(60, 64, 67, 0.15);\n",
              "      fill: #174EA6;\n",
              "    }\n",
              "\n",
              "    .colab-df-buttons div {\n",
              "      margin-bottom: 4px;\n",
              "    }\n",
              "\n",
              "    [theme=dark] .colab-df-convert {\n",
              "      background-color: #3B4455;\n",
              "      fill: #D2E3FC;\n",
              "    }\n",
              "\n",
              "    [theme=dark] .colab-df-convert:hover {\n",
              "      background-color: #434B5C;\n",
              "      box-shadow: 0px 1px 3px 1px rgba(0, 0, 0, 0.15);\n",
              "      filter: drop-shadow(0px 1px 2px rgba(0, 0, 0, 0.3));\n",
              "      fill: #FFFFFF;\n",
              "    }\n",
              "  </style>\n",
              "\n",
              "    <script>\n",
              "      const buttonEl =\n",
              "        document.querySelector('#df-41cba4f0-5702-4286-a4b7-b860c26b2a52 button.colab-df-convert');\n",
              "      buttonEl.style.display =\n",
              "        google.colab.kernel.accessAllowed ? 'block' : 'none';\n",
              "\n",
              "      async function convertToInteractive(key) {\n",
              "        const element = document.querySelector('#df-41cba4f0-5702-4286-a4b7-b860c26b2a52');\n",
              "        const dataTable =\n",
              "          await google.colab.kernel.invokeFunction('convertToInteractive',\n",
              "                                                    [key], {});\n",
              "        if (!dataTable) return;\n",
              "\n",
              "        const docLinkHtml = 'Like what you see? Visit the ' +\n",
              "          '<a target=\"_blank\" href=https://colab.research.google.com/notebooks/data_table.ipynb>data table notebook</a>'\n",
              "          + ' to learn more about interactive tables.';\n",
              "        element.innerHTML = '';\n",
              "        dataTable['output_type'] = 'display_data';\n",
              "        await google.colab.output.renderOutput(dataTable, element);\n",
              "        const docLink = document.createElement('div');\n",
              "        docLink.innerHTML = docLinkHtml;\n",
              "        element.appendChild(docLink);\n",
              "      }\n",
              "    </script>\n",
              "  </div>\n",
              "\n",
              "\n",
              "<div id=\"df-cd6c4bc8-2140-405a-aebd-3ba2824bb70b\">\n",
              "  <button class=\"colab-df-quickchart\" onclick=\"quickchart('df-cd6c4bc8-2140-405a-aebd-3ba2824bb70b')\"\n",
              "            title=\"Suggest charts\"\n",
              "            style=\"display:none;\">\n",
              "\n",
              "<svg xmlns=\"http://www.w3.org/2000/svg\" height=\"24px\"viewBox=\"0 0 24 24\"\n",
              "     width=\"24px\">\n",
              "    <g>\n",
              "        <path d=\"M19 3H5c-1.1 0-2 .9-2 2v14c0 1.1.9 2 2 2h14c1.1 0 2-.9 2-2V5c0-1.1-.9-2-2-2zM9 17H7v-7h2v7zm4 0h-2V7h2v10zm4 0h-2v-4h2v4z\"/>\n",
              "    </g>\n",
              "</svg>\n",
              "  </button>\n",
              "\n",
              "<style>\n",
              "  .colab-df-quickchart {\n",
              "      --bg-color: #E8F0FE;\n",
              "      --fill-color: #1967D2;\n",
              "      --hover-bg-color: #E2EBFA;\n",
              "      --hover-fill-color: #174EA6;\n",
              "      --disabled-fill-color: #AAA;\n",
              "      --disabled-bg-color: #DDD;\n",
              "  }\n",
              "\n",
              "  [theme=dark] .colab-df-quickchart {\n",
              "      --bg-color: #3B4455;\n",
              "      --fill-color: #D2E3FC;\n",
              "      --hover-bg-color: #434B5C;\n",
              "      --hover-fill-color: #FFFFFF;\n",
              "      --disabled-bg-color: #3B4455;\n",
              "      --disabled-fill-color: #666;\n",
              "  }\n",
              "\n",
              "  .colab-df-quickchart {\n",
              "    background-color: var(--bg-color);\n",
              "    border: none;\n",
              "    border-radius: 50%;\n",
              "    cursor: pointer;\n",
              "    display: none;\n",
              "    fill: var(--fill-color);\n",
              "    height: 32px;\n",
              "    padding: 0;\n",
              "    width: 32px;\n",
              "  }\n",
              "\n",
              "  .colab-df-quickchart:hover {\n",
              "    background-color: var(--hover-bg-color);\n",
              "    box-shadow: 0 1px 2px rgba(60, 64, 67, 0.3), 0 1px 3px 1px rgba(60, 64, 67, 0.15);\n",
              "    fill: var(--button-hover-fill-color);\n",
              "  }\n",
              "\n",
              "  .colab-df-quickchart-complete:disabled,\n",
              "  .colab-df-quickchart-complete:disabled:hover {\n",
              "    background-color: var(--disabled-bg-color);\n",
              "    fill: var(--disabled-fill-color);\n",
              "    box-shadow: none;\n",
              "  }\n",
              "\n",
              "  .colab-df-spinner {\n",
              "    border: 2px solid var(--fill-color);\n",
              "    border-color: transparent;\n",
              "    border-bottom-color: var(--fill-color);\n",
              "    animation:\n",
              "      spin 1s steps(1) infinite;\n",
              "  }\n",
              "\n",
              "  @keyframes spin {\n",
              "    0% {\n",
              "      border-color: transparent;\n",
              "      border-bottom-color: var(--fill-color);\n",
              "      border-left-color: var(--fill-color);\n",
              "    }\n",
              "    20% {\n",
              "      border-color: transparent;\n",
              "      border-left-color: var(--fill-color);\n",
              "      border-top-color: var(--fill-color);\n",
              "    }\n",
              "    30% {\n",
              "      border-color: transparent;\n",
              "      border-left-color: var(--fill-color);\n",
              "      border-top-color: var(--fill-color);\n",
              "      border-right-color: var(--fill-color);\n",
              "    }\n",
              "    40% {\n",
              "      border-color: transparent;\n",
              "      border-right-color: var(--fill-color);\n",
              "      border-top-color: var(--fill-color);\n",
              "    }\n",
              "    60% {\n",
              "      border-color: transparent;\n",
              "      border-right-color: var(--fill-color);\n",
              "    }\n",
              "    80% {\n",
              "      border-color: transparent;\n",
              "      border-right-color: var(--fill-color);\n",
              "      border-bottom-color: var(--fill-color);\n",
              "    }\n",
              "    90% {\n",
              "      border-color: transparent;\n",
              "      border-bottom-color: var(--fill-color);\n",
              "    }\n",
              "  }\n",
              "</style>\n",
              "\n",
              "  <script>\n",
              "    async function quickchart(key) {\n",
              "      const quickchartButtonEl =\n",
              "        document.querySelector('#' + key + ' button');\n",
              "      quickchartButtonEl.disabled = true;  // To prevent multiple clicks.\n",
              "      quickchartButtonEl.classList.add('colab-df-spinner');\n",
              "      try {\n",
              "        const charts = await google.colab.kernel.invokeFunction(\n",
              "            'suggestCharts', [key], {});\n",
              "      } catch (error) {\n",
              "        console.error('Error during call to suggestCharts:', error);\n",
              "      }\n",
              "      quickchartButtonEl.classList.remove('colab-df-spinner');\n",
              "      quickchartButtonEl.classList.add('colab-df-quickchart-complete');\n",
              "    }\n",
              "    (() => {\n",
              "      let quickchartButtonEl =\n",
              "        document.querySelector('#df-cd6c4bc8-2140-405a-aebd-3ba2824bb70b button');\n",
              "      quickchartButtonEl.style.display =\n",
              "        google.colab.kernel.accessAllowed ? 'block' : 'none';\n",
              "    })();\n",
              "  </script>\n",
              "</div>\n",
              "    </div>\n",
              "  </div>\n"
            ],
            "text/plain": [
              "     ID  Annual_Income  Monthly_Inhand_Salary  Num_Credit_Card  Interest_Rate  \\\n",
              "0  5634       19114.12            1824.843333              4.0            3.0   \n",
              "1  5635       19114.12            1824.843333              4.0            3.0   \n",
              "2  5636       19114.12            1824.843333              4.0            3.0   \n",
              "3  5637       19114.12            1824.843333              4.0            3.0   \n",
              "4  5638       19114.12            1824.843333              4.0            3.0   \n",
              "\n",
              "   Delay_from_due_date  Changed_Credit_Limit  Num_Credit_Inquiries  \\\n",
              "0                  3.0                 11.27                   4.0   \n",
              "1                  3.0                 11.27                   4.0   \n",
              "2                  3.0                 11.27                   4.0   \n",
              "3                  5.0                  6.27                   4.0   \n",
              "4                  6.0                 11.27                   4.0   \n",
              "\n",
              "   Outstanding_Debt  Total_EMI_per_month Credit_Score  \n",
              "0            809.98            49.574949         Good  \n",
              "1            809.98            49.574949         Good  \n",
              "2            809.98            49.574949         Good  \n",
              "3            809.98            49.574949         Good  \n",
              "4            809.98            49.574949         Good  "
            ]
          },
          "execution_count": 8,
          "metadata": {},
          "output_type": "execute_result"
        }
      ],
      "source": [
        "data.head()"
      ]
    },
    {
      "cell_type": "code",
      "execution_count": 9,
      "metadata": {
        "id": "31ZcMjW9jwNt"
      },
      "outputs": [],
      "source": [
        "data['Credit_Score'], _ = pd.factorize(data['Credit_Score'])"
      ]
    },
    {
      "cell_type": "code",
      "execution_count": 10,
      "metadata": {
        "colab": {
          "base_uri": "https://localhost:8080/"
        },
        "id": "BrGiyc3_jYtb",
        "outputId": "d8814760-5a4d-4656-8412-89e6716439b9"
      },
      "outputs": [
        {
          "name": "stdout",
          "output_type": "stream",
          "text": [
            "<class 'pandas.core.frame.DataFrame'>\n",
            "RangeIndex: 100000 entries, 0 to 99999\n",
            "Data columns (total 11 columns):\n",
            " #   Column                 Non-Null Count   Dtype  \n",
            "---  ------                 --------------   -----  \n",
            " 0   ID                     100000 non-null  int64  \n",
            " 1   Annual_Income          100000 non-null  float64\n",
            " 2   Monthly_Inhand_Salary  100000 non-null  float64\n",
            " 3   Num_Credit_Card        100000 non-null  float64\n",
            " 4   Interest_Rate          100000 non-null  float64\n",
            " 5   Delay_from_due_date    100000 non-null  float64\n",
            " 6   Changed_Credit_Limit   100000 non-null  float64\n",
            " 7   Num_Credit_Inquiries   100000 non-null  float64\n",
            " 8   Outstanding_Debt       100000 non-null  float64\n",
            " 9   Total_EMI_per_month    100000 non-null  float64\n",
            " 10  Credit_Score           100000 non-null  int64  \n",
            "dtypes: float64(9), int64(2)\n",
            "memory usage: 8.4 MB\n"
          ]
        }
      ],
      "source": [
        "data.info()"
      ]
    },
    {
      "cell_type": "code",
      "execution_count": 11,
      "metadata": {
        "colab": {
          "base_uri": "https://localhost:8080/"
        },
        "id": "Oy0X50sljmAm",
        "outputId": "97cbb7cd-26a9-464d-a831-562bab622f4b"
      },
      "outputs": [
        {
          "data": {
            "text/plain": [
              "ID                       0\n",
              "Annual_Income            0\n",
              "Monthly_Inhand_Salary    0\n",
              "Num_Credit_Card          0\n",
              "Interest_Rate            0\n",
              "Delay_from_due_date      0\n",
              "Changed_Credit_Limit     0\n",
              "Num_Credit_Inquiries     0\n",
              "Outstanding_Debt         0\n",
              "Total_EMI_per_month      0\n",
              "Credit_Score             0\n",
              "dtype: int64"
            ]
          },
          "execution_count": 11,
          "metadata": {},
          "output_type": "execute_result"
        }
      ],
      "source": [
        "data.isna().sum()"
      ]
    },
    {
      "cell_type": "code",
      "execution_count": 12,
      "metadata": {
        "id": "TD0pZcRdhxlh"
      },
      "outputs": [],
      "source": [
        "scaler = StandardScaler()\n",
        "features = data[['Annual_Income', 'Monthly_Inhand_Salary', 'Num_Credit_Card', 'Interest_Rate', 'Delay_from_due_date', 'Changed_Credit_Limit', 'Num_Credit_Inquiries', 'Outstanding_Debt', 'Total_EMI_per_month']]  # all columns except the target\n",
        "target = data['Credit_Score']\n",
        "\n",
        "# Normalize features\n",
        "features_normalized = scaler.fit_transform(features)"
      ]
    },
    {
      "cell_type": "code",
      "execution_count": 13,
      "metadata": {
        "id": "vmF4ICcoihZf"
      },
      "outputs": [],
      "source": [
        "# Splitting data into training, test and validation\n",
        "features_train, features_temp, target_train, target_temp = train_test_split(\n",
        "    features_normalized, target, test_size=0.4, random_state=42)  \n",
        "\n",
        "features_val, features_test, target_val, target_test = train_test_split(\n",
        "    features_temp, target_temp, test_size=0.5, random_state=42)  "
      ]
    },
    {
      "cell_type": "markdown",
      "metadata": {
        "id": "_KMfEqNNvL4N"
      },
      "source": [
        "# Applying Smote"
      ]
    },
    {
      "cell_type": "code",
      "execution_count": 14,
      "metadata": {
        "id": "sWbGjT3NvLS-"
      },
      "outputs": [],
      "source": [
        "smote = SMOTE(random_state=42)\n",
        "features_train, target_train = smote.fit_resample(features_train, target_train)"
      ]
    },
    {
      "cell_type": "markdown",
      "metadata": {
        "id": "OJXVHkxhi12-"
      },
      "source": [
        "# Preparing data for neural network"
      ]
    },
    {
      "cell_type": "code",
      "execution_count": 15,
      "metadata": {
        "id": "jhU_0SGZkq4b"
      },
      "outputs": [],
      "source": [
        "train_features = torch.tensor(features_train, dtype = torch.float32)\n",
        "train_targets = torch.tensor(target_train, dtype = torch.int64).squeeze()"
      ]
    },
    {
      "cell_type": "code",
      "execution_count": 16,
      "metadata": {
        "id": "6dtkkV4sbGAB"
      },
      "outputs": [],
      "source": [
        "target_val = target_val.to_numpy()"
      ]
    },
    {
      "cell_type": "code",
      "execution_count": 17,
      "metadata": {
        "id": "hLhDAnm7afmy"
      },
      "outputs": [],
      "source": [
        "val_features = torch.tensor(features_val, dtype = torch.float32)\n",
        "val_targets = torch.tensor(target_val, dtype = torch.int64).squeeze()"
      ]
    },
    {
      "cell_type": "code",
      "execution_count": 18,
      "metadata": {
        "id": "Qk7Wr9gyvrOW"
      },
      "outputs": [],
      "source": [
        "target_test = target_test.to_numpy()"
      ]
    },
    {
      "cell_type": "code",
      "execution_count": 19,
      "metadata": {
        "id": "QpmwUJU-lXgW"
      },
      "outputs": [],
      "source": [
        "test_features = torch.tensor(features_test, dtype = torch.float32)\n",
        "test_targets = torch.tensor(target_test, dtype = torch.int64).squeeze()"
      ]
    },
    {
      "cell_type": "code",
      "execution_count": 20,
      "metadata": {
        "id": "YqrLvrzJiv-B"
      },
      "outputs": [],
      "source": [
        "# Create Tensor datasets\n",
        "train_dataset = TensorDataset(train_features, train_targets)\n",
        "test_dataset = TensorDataset(test_features, test_targets)\n",
        "val_dataset = TensorDataset(val_features, val_targets)\n",
        "\n",
        "# Setup DataLoaders\n",
        "train_loader = DataLoader(train_dataset, batch_size=256, shuffle=True)\n",
        "test_loader = DataLoader(test_dataset, batch_size=256, shuffle=False)\n",
        "val_loader = DataLoader(val_dataset, batch_size=256, shuffle=False )"
      ]
    },
    {
      "cell_type": "markdown",
      "metadata": {
        "id": "m_QcbZaaqqja"
      },
      "source": [
        "# Useful functions"
      ]
    },
    {
      "cell_type": "code",
      "execution_count": 32,
      "metadata": {
        "id": "dRVxXj1gqtV4"
      },
      "outputs": [],
      "source": [
        "def train_model(model, train_loader, val_loader, epochs, optimizer, scheduler, criterion):\n",
        "    \"\"\"\n",
        "    Function to train the neural networks. The model is trained on the training data and the weights are updated at each epoch.\n",
        "    Params:\n",
        "        model: The neural network to be trained\n",
        "        train_loader: The training data in batches\n",
        "        val_loader: The validation data in batches\n",
        "        epochs: The number of epochs to train the model for\n",
        "        optimizer: The optimizer used for convergence\n",
        "        scheduler: Scheduler to lower the learning rate during trianing \n",
        "        criterion: Loss criterion to measure the performance of the model after each training epoch \n",
        "    \"\"\"\n",
        "    num_epochs = epochs\n",
        "    for epoch in range(num_epochs):\n",
        "        model.train()\n",
        "        for i, (inputs, labels) in enumerate(train_loader):\n",
        "            inputs, labels = inputs.cuda(), labels.cuda()\n",
        "\n",
        "            # Forward pass\n",
        "            outputs = model(inputs)\n",
        "            loss = criterion(outputs, labels)\n",
        "\n",
        "            # Backward and optimize\n",
        "            optimizer.zero_grad()\n",
        "            loss.backward()\n",
        "            optimizer.step()\n",
        "\n",
        "            if (i+1) % 100 == 0:\n",
        "                print(f'Epoch [{epoch+1}/{num_epochs}], Step [{i+1}/{len(train_loader)}], Loss: {loss.item():.4f}')\n",
        "\n",
        "        # Calculate validation loss and step the scheduler\n",
        "        val_loss = validate(model, val_loader, criterion)\n",
        "        scheduler.step(val_loss)\n",
        "        print(f'Epoch [{epoch+1}/{num_epochs}], Validation Loss: {val_loss:.4f}')"
      ]
    },
    {
      "cell_type": "code",
      "execution_count": 22,
      "metadata": {
        "id": "Sx90Zi3GsESr"
      },
      "outputs": [],
      "source": [
        "def get_all_predictions(model, data_loader):\n",
        "    \"\"\"\n",
        "    Function to get all the predicted values and their actual labels\n",
        "    Params:\n",
        "        model: The trained neural network model\n",
        "        data_loader: The test data loader\n",
        "    Returns:\n",
        "        all_preds: All predicted labels\n",
        "        all_labels: All the true labels\n",
        "    \"\"\"\n",
        "    all_preds = []\n",
        "    all_labels = []\n",
        "    model.eval()\n",
        "    with torch.no_grad():\n",
        "        for inputs, labels in data_loader:\n",
        "            inputs = inputs.cuda()\n",
        "            outputs = model(inputs)\n",
        "            _, predicted = torch.max(outputs.data, 1)\n",
        "            all_preds.extend(predicted.cpu().numpy())\n",
        "            all_labels.extend(labels.cpu().numpy())\n",
        "    return all_preds, all_labels"
      ]
    },
    {
      "cell_type": "code",
      "execution_count": 23,
      "metadata": {
        "id": "mrQGor0BsAsP"
      },
      "outputs": [],
      "source": [
        "def compute_metrics(predictions, true_labels):\n",
        "    \"\"\"\n",
        "    Function to compute evaluation metrics for the trained models\n",
        "    Params:\n",
        "        predictions: The predicted labels\n",
        "        true_labels: The true labels\n",
        "    Returns:\n",
        "        precision: The precision of the model\n",
        "        recall: The recall of the model\n",
        "        f1: The F1 score of the model\n",
        "        accuracy: The accuracy of the model\n",
        "        conf_matrix: The confusion matrix\n",
        "    \"\"\"\n",
        "    precision = precision_score(true_labels, predictions, average='weighted')\n",
        "    recall = recall_score(true_labels, predictions, average='weighted')\n",
        "    f1 = f1_score(true_labels, predictions, average='weighted')\n",
        "    accuracy = accuracy_score(true_labels, predictions)\n",
        "    conf_matrix = confusion_matrix(true_labels, predictions)\n",
        "\n",
        "    return precision, recall, f1, accuracy, conf_matrix"
      ]
    },
    {
      "cell_type": "code",
      "execution_count": 24,
      "metadata": {
        "id": "rCRCe0WctPMt"
      },
      "outputs": [],
      "source": [
        "def plot_confusion_matrix(conf_matrix, class_names):\n",
        "    \"\"\"\n",
        "    Function to plot the confusion matrix\n",
        "    Params:\n",
        "        conf_matrix: The cgenerated confusion matrix\n",
        "        class_names: The names of each class\n",
        "    \"\"\"\n",
        "    plt.figure(figsize=(10, 7))\n",
        "    sns.heatmap(conf_matrix, annot=True, fmt=\"d\", linewidths=.5, cmap=\"Blues\", xticklabels=class_names, yticklabels=class_names)\n",
        "    plt.xlabel('Predicted Labels')\n",
        "    plt.ylabel('True Labels')\n",
        "    plt.title('Confusion Matrix')\n",
        "    plt.show()"
      ]
    },
    {
      "cell_type": "code",
      "execution_count": 25,
      "metadata": {
        "id": "3qvHrnmXsdL5"
      },
      "outputs": [],
      "source": [
        "def evaluate_model(model, data_loader):\n",
        "    \"\"\"\n",
        "    Function to print out all the evaluation metrics\n",
        "    Params:\n",
        "        model: The trained model\n",
        "        data_loader: Test data loader\n",
        "    \"\"\"\n",
        "    predictions, true_labels = get_all_predictions(model, data_loader)\n",
        "\n",
        "    # Compute metrics\n",
        "    precision, recall, f1, accuracy, conf_matrix = compute_metrics(predictions, true_labels)\n",
        "\n",
        "    print(f'Precision: {precision*100}%')\n",
        "    print(f'Recall: {recall*100}%')\n",
        "    print(f'F1 Score: {f1*100}%')\n",
        "    print(f'Accuracy: {accuracy*100}%')\n",
        "    print(\"Confusion Matrix:\\n\", conf_matrix)"
      ]
    },
    {
      "cell_type": "code",
      "execution_count": 26,
      "metadata": {
        "id": "PzdqblzvZhiH"
      },
      "outputs": [],
      "source": [
        "def validate(model, val_loader, criterion):\n",
        "    \"\"\"\n",
        "    Function to run a validation loop at the end of each training epoch on the valdiation dataset\n",
        "    Params:\n",
        "        model: The trained model\n",
        "        val_loader: The validaton data laoder in batches\n",
        "        criterion: The loss criterion to evaluate the performance of the model\n",
        "    Returns:\n",
        "        The loss of the model at the end of each epoch\n",
        "    \"\"\"\n",
        "    model.eval()\n",
        "    total_loss = 0\n",
        "    with torch.no_grad():\n",
        "        for data, target in val_loader:\n",
        "            data, target = data.cuda(), target.cuda()\n",
        "            output = model(data)\n",
        "            loss = criterion(output, target)\n",
        "            total_loss += loss.item() * data.size(0)\n",
        "    return total_loss / len(val_loader.dataset)"
      ]
    },
    {
      "cell_type": "markdown",
      "metadata": {
        "id": "Yf0eDMZcq-Rx"
      },
      "source": [
        "# Neural Networks"
      ]
    },
    {
      "cell_type": "markdown",
      "metadata": {
        "id": "qX0pYxeHnZx1"
      },
      "source": [
        "# Architecture 1: Two convolution layers, one max pooling layer, and two fully connected layers"
      ]
    },
    {
      "cell_type": "code",
      "execution_count": 27,
      "metadata": {
        "id": "VGamjfEOixTg"
      },
      "outputs": [],
      "source": [
        "class SimpleCNN1D(nn.Module):\n",
        "    def __init__(self):\n",
        "        super(SimpleCNN1D, self).__init__()\n",
        "        self.conv1 = nn.Conv1d(1, 16, 3, 1)\n",
        "        self.conv2 = nn.Conv1d(16, 32, 3, 1)\n",
        "        self.pool = nn.MaxPool1d(2, 2)\n",
        "        self.fc1 = nn.Linear(32 * 2, 128)\n",
        "        self.fc2 = nn.Linear(128, 3)\n",
        "\n",
        "    def forward(self, x):\n",
        "        x = x.unsqueeze(1)\n",
        "        x = F.relu(self.conv1(x))\n",
        "        x = F.relu(self.conv2(x))\n",
        "        x = self.pool(x)\n",
        "        x = torch.flatten(x, 1)\n",
        "        x = F.relu(self.fc1(x))\n",
        "        x = self.fc2(x)\n",
        "        return x"
      ]
    },
    {
      "cell_type": "code",
      "execution_count": 28,
      "metadata": {
        "id": "E2IKNRbPndAH"
      },
      "outputs": [],
      "source": [
        "model = SimpleCNN1D()\n",
        "model.cuda()\n",
        "\n",
        "criterion = nn.CrossEntropyLoss()\n",
        "optimizer = torch.optim.Adam(model.parameters(), lr=0.0001)\n",
        "#optimizer = optim.SGD(params = model.parameters(), lr = 0.0005)\n",
        "#optimizer = optim.RMSprop(params = model.parameters(), lr = 0.0001)\n",
        "#scheduler = StepLR(optimizer, step_size=10, gamma=0.1)\n",
        "scheduler = torch.optim.lr_scheduler.ReduceLROnPlateau(optimizer, 'min', patience=5)"
      ]
    },
    {
      "cell_type": "code",
      "execution_count": 29,
      "metadata": {
        "colab": {
          "base_uri": "https://localhost:8080/"
        },
        "id": "ZqmbRr4mqu-V",
        "outputId": "88c2e099-0d51-4377-d3c1-726d4dff2434"
      },
      "outputs": [
        {
          "name": "stdout",
          "output_type": "stream",
          "text": [
            "Epoch [1/20], Step [100/375], Loss: 1.0134\n",
            "Epoch [1/20], Step [200/375], Loss: 0.8620\n",
            "Epoch [1/20], Step [300/375], Loss: 0.9261\n",
            "Epoch [1/20], Validation Loss: 0.8934\n",
            "Epoch [2/20], Step [100/375], Loss: 0.8230\n",
            "Epoch [2/20], Step [200/375], Loss: 0.8185\n",
            "Epoch [2/20], Step [300/375], Loss: 0.7542\n",
            "Epoch [2/20], Validation Loss: 0.8566\n",
            "Epoch [3/20], Step [100/375], Loss: 0.8184\n",
            "Epoch [3/20], Step [200/375], Loss: 0.8233\n",
            "Epoch [3/20], Step [300/375], Loss: 0.7517\n",
            "Epoch [3/20], Validation Loss: 0.8500\n",
            "Epoch [4/20], Step [100/375], Loss: 0.8284\n",
            "Epoch [4/20], Step [200/375], Loss: 0.8380\n",
            "Epoch [4/20], Step [300/375], Loss: 0.7991\n",
            "Epoch [4/20], Validation Loss: 0.8397\n",
            "Epoch [5/20], Step [100/375], Loss: 0.7189\n",
            "Epoch [5/20], Step [200/375], Loss: 0.6983\n",
            "Epoch [5/20], Step [300/375], Loss: 0.7742\n",
            "Epoch [5/20], Validation Loss: 0.8288\n",
            "Epoch [6/20], Step [100/375], Loss: 0.8043\n",
            "Epoch [6/20], Step [200/375], Loss: 0.7136\n",
            "Epoch [6/20], Step [300/375], Loss: 0.7470\n",
            "Epoch [6/20], Validation Loss: 0.8296\n",
            "Epoch [7/20], Step [100/375], Loss: 0.8022\n",
            "Epoch [7/20], Step [200/375], Loss: 0.7582\n",
            "Epoch [7/20], Step [300/375], Loss: 0.7515\n",
            "Epoch [7/20], Validation Loss: 0.8076\n",
            "Epoch [8/20], Step [100/375], Loss: 0.7041\n",
            "Epoch [8/20], Step [200/375], Loss: 0.7523\n",
            "Epoch [8/20], Step [300/375], Loss: 0.7712\n",
            "Epoch [8/20], Validation Loss: 0.8207\n",
            "Epoch [9/20], Step [100/375], Loss: 0.7559\n",
            "Epoch [9/20], Step [200/375], Loss: 0.7263\n",
            "Epoch [9/20], Step [300/375], Loss: 0.7461\n",
            "Epoch [9/20], Validation Loss: 0.8189\n",
            "Epoch [10/20], Step [100/375], Loss: 0.7534\n",
            "Epoch [10/20], Step [200/375], Loss: 0.8064\n",
            "Epoch [10/20], Step [300/375], Loss: 0.8251\n",
            "Epoch [10/20], Validation Loss: 0.8071\n",
            "Epoch [11/20], Step [100/375], Loss: 0.7643\n",
            "Epoch [11/20], Step [200/375], Loss: 0.7765\n",
            "Epoch [11/20], Step [300/375], Loss: 0.7963\n",
            "Epoch [11/20], Validation Loss: 0.8182\n",
            "Epoch [12/20], Step [100/375], Loss: 0.7357\n",
            "Epoch [12/20], Step [200/375], Loss: 0.7704\n",
            "Epoch [12/20], Step [300/375], Loss: 0.8072\n",
            "Epoch [12/20], Validation Loss: 0.8145\n",
            "Epoch [13/20], Step [100/375], Loss: 0.6702\n",
            "Epoch [13/20], Step [200/375], Loss: 0.7296\n",
            "Epoch [13/20], Step [300/375], Loss: 0.7554\n",
            "Epoch [13/20], Validation Loss: 0.8195\n",
            "Epoch [14/20], Step [100/375], Loss: 0.7633\n",
            "Epoch [14/20], Step [200/375], Loss: 0.7465\n",
            "Epoch [14/20], Step [300/375], Loss: 0.7551\n",
            "Epoch [14/20], Validation Loss: 0.8159\n",
            "Epoch [15/20], Step [100/375], Loss: 0.7774\n",
            "Epoch [15/20], Step [200/375], Loss: 0.8227\n",
            "Epoch [15/20], Step [300/375], Loss: 0.7449\n",
            "Epoch [15/20], Validation Loss: 0.8043\n",
            "Epoch [16/20], Step [100/375], Loss: 0.7303\n",
            "Epoch [16/20], Step [200/375], Loss: 0.7926\n",
            "Epoch [16/20], Step [300/375], Loss: 0.7607\n",
            "Epoch [16/20], Validation Loss: 0.8057\n",
            "Epoch [17/20], Step [100/375], Loss: 0.7329\n",
            "Epoch [17/20], Step [200/375], Loss: 0.7408\n",
            "Epoch [17/20], Step [300/375], Loss: 0.6894\n",
            "Epoch [17/20], Validation Loss: 0.8145\n",
            "Epoch [18/20], Step [100/375], Loss: 0.7443\n",
            "Epoch [18/20], Step [200/375], Loss: 0.7468\n",
            "Epoch [18/20], Step [300/375], Loss: 0.6970\n",
            "Epoch [18/20], Validation Loss: 0.8040\n",
            "Epoch [19/20], Step [100/375], Loss: 0.7902\n",
            "Epoch [19/20], Step [200/375], Loss: 0.7860\n",
            "Epoch [19/20], Step [300/375], Loss: 0.7378\n",
            "Epoch [19/20], Validation Loss: 0.7963\n",
            "Epoch [20/20], Step [100/375], Loss: 0.7276\n",
            "Epoch [20/20], Step [200/375], Loss: 0.6905\n",
            "Epoch [20/20], Step [300/375], Loss: 0.7067\n",
            "Epoch [20/20], Validation Loss: 0.8261\n"
          ]
        }
      ],
      "source": [
        "train_model(model, train_loader, val_loader, 20, optimizer, scheduler, criterion)"
      ]
    },
    {
      "cell_type": "code",
      "execution_count": 30,
      "metadata": {
        "colab": {
          "base_uri": "https://localhost:8080/"
        },
        "id": "BNXr27BrpJrK",
        "outputId": "ef83b895-a2b4-4f07-b2a9-518d522a86d8"
      },
      "outputs": [
        {
          "name": "stdout",
          "output_type": "stream",
          "text": [
            "Precision: 67.87758833347148%\n",
            "Recall: 61.045%\n",
            "F1 Score: 61.11099606337309%\n",
            "Accuracy: 61.045%\n",
            "Confusion Matrix:\n",
            " [[2839  601  118]\n",
            " [3037 5034 2549]\n",
            " [ 800  686 4336]]\n"
          ]
        }
      ],
      "source": [
        "evaluate_model(model, test_loader)"
      ]
    },
    {
      "cell_type": "code",
      "execution_count": 31,
      "metadata": {
        "colab": {
          "base_uri": "https://localhost:8080/",
          "height": 641
        },
        "id": "Rl28buiOsW0L",
        "outputId": "53c2288c-ab14-4975-c2d4-3007dcb34ade"
      },
      "outputs": [
        {
          "data": {
            "image/png": "[encoded data removed]",
            "text/plain": [
              "<Figure size 1000x700 with 2 Axes>"
            ]
          },
          "metadata": {},
          "output_type": "display_data"
        }
      ],
      "source": [
        "class_names = [\"Good\", \"Standard\", \"Poor\"]\n",
        "predictions, true_labels = get_all_predictions(model, test_loader)\n",
        "precision, recall, f1, accuracy, conf_matrix = compute_metrics(predictions, true_labels)\n",
        "plot_confusion_matrix(conf_matrix, class_names)"
      ]
    },
    {
      "cell_type": "markdown",
      "metadata": {
        "id": "MTxPUaFj5I2F"
      },
      "source": [
        "# Architecture 2: 3 convolution layers with batch normalisation after each layer followed by a max pooling layer, two fully connected layers, each followed by a dropout layer"
      ]
    },
    {
      "cell_type": "code",
      "execution_count": 30,
      "metadata": {
        "id": "ya7s3vDPvVGW"
      },
      "outputs": [],
      "source": [
        "class EnhancedSimpleCNN1D(nn.Module):\n",
        "    def __init__(self):\n",
        "        super(EnhancedSimpleCNN1D, self).__init__()\n",
        "        self.conv1 = nn.Conv1d(1, 32, 3, 1, padding=1)\n",
        "        self.bn1 = nn.BatchNorm1d(32)\n",
        "        self.conv2 = nn.Conv1d(32, 64, 3, 1, padding=1)\n",
        "        self.bn2 = nn.BatchNorm1d(64)\n",
        "        self.conv3 = nn.Conv1d(64, 128, 3, 1, padding=1)\n",
        "        self.bn3 = nn.BatchNorm1d(128)\n",
        "        self.pool = nn.MaxPool1d(2, 2)\n",
        "        self.dropout1 = nn.Dropout(0.4)\n",
        "        self.fc1 = nn.Linear(512, 128)\n",
        "        self.dropout2 = nn.Dropout(0.5)\n",
        "        self.fc2 = nn.Linear(128, 3)\n",
        "\n",
        "    def forward(self, x):\n",
        "        x = x.unsqueeze(1)  \n",
        "        x = F.relu(self.bn1(self.conv1(x)))\n",
        "        x = F.relu(self.bn2(self.conv2(x)))\n",
        "        x = F.relu(self.bn3(self.conv3(x)))\n",
        "        x = self.pool(x)\n",
        "        x = torch.flatten(x, 1)\n",
        "        x = self.dropout1(x)\n",
        "        x = F.relu(self.fc1(x))\n",
        "        x = self.dropout2(x)\n",
        "        x = self.fc2(x)\n",
        "        return x\n"
      ]
    },
    {
      "cell_type": "code",
      "execution_count": 31,
      "metadata": {
        "id": "cvCtmKv56q6E"
      },
      "outputs": [],
      "source": [
        "model = EnhancedSimpleCNN1D()\n",
        "model.cuda()\n",
        "\n",
        "criterion = nn.CrossEntropyLoss()\n",
        "optimizer = torch.optim.Adam(model.parameters(), lr=0.0001)\n",
        "#optimizer = optim.SGD(params = model.parameters(), lr = 0.0005)\n",
        "#optimizer = optim.RMSprop(params = model.parameters(), lr = 0.0001)\n",
        "#scheduler = StepLR(optimizer, step_size=10, gamma=0.1)\n",
        "scheduler = torch.optim.lr_scheduler.ReduceLROnPlateau(optimizer, 'min', patience=5)"
      ]
    },
    {
      "cell_type": "code",
      "execution_count": 32,
      "metadata": {
        "colab": {
          "base_uri": "https://localhost:8080/"
        },
        "id": "UHt5jE-r7CDY",
        "outputId": "dafa6ab6-53c8-4be4-f610-8da55b40b537"
      },
      "outputs": [
        {
          "name": "stdout",
          "output_type": "stream",
          "text": [
            "Epoch [1/20], Step [100/375], Loss: 0.7734\n",
            "Epoch [1/20], Step [200/375], Loss: 0.7395\n",
            "Epoch [1/20], Step [300/375], Loss: 0.7681\n",
            "Epoch [1/20], Validation Loss: 0.8023\n",
            "Epoch [2/20], Step [100/375], Loss: 0.7599\n",
            "Epoch [2/20], Step [200/375], Loss: 0.8233\n",
            "Epoch [2/20], Step [300/375], Loss: 0.8043\n",
            "Epoch [2/20], Validation Loss: 0.8037\n",
            "Epoch [3/20], Step [100/375], Loss: 0.8401\n",
            "Epoch [3/20], Step [200/375], Loss: 0.7680\n",
            "Epoch [3/20], Step [300/375], Loss: 0.6502\n",
            "Epoch [3/20], Validation Loss: 0.7974\n",
            "Epoch [4/20], Step [100/375], Loss: 0.6918\n",
            "Epoch [4/20], Step [200/375], Loss: 0.7368\n",
            "Epoch [4/20], Step [300/375], Loss: 0.7399\n",
            "Epoch [4/20], Validation Loss: 0.8072\n",
            "Epoch [5/20], Step [100/375], Loss: 0.7812\n",
            "Epoch [5/20], Step [200/375], Loss: 0.7289\n",
            "Epoch [5/20], Step [300/375], Loss: 0.7608\n",
            "Epoch [5/20], Validation Loss: 0.7920\n",
            "Epoch [6/20], Step [100/375], Loss: 0.7559\n",
            "Epoch [6/20], Step [200/375], Loss: 0.7311\n",
            "Epoch [6/20], Step [300/375], Loss: 0.7380\n",
            "Epoch [6/20], Validation Loss: 0.7817\n",
            "Epoch [7/20], Step [100/375], Loss: 0.8094\n",
            "Epoch [7/20], Step [200/375], Loss: 0.7499\n",
            "Epoch [7/20], Step [300/375], Loss: 0.7346\n",
            "Epoch [7/20], Validation Loss: 0.7686\n",
            "Epoch [8/20], Step [100/375], Loss: 0.7638\n",
            "Epoch [8/20], Step [200/375], Loss: 0.6502\n",
            "Epoch [8/20], Step [300/375], Loss: 0.6687\n",
            "Epoch [8/20], Validation Loss: 0.7814\n",
            "Epoch [9/20], Step [100/375], Loss: 0.6446\n",
            "Epoch [9/20], Step [200/375], Loss: 0.7488\n",
            "Epoch [9/20], Step [300/375], Loss: 0.7743\n",
            "Epoch [9/20], Validation Loss: 0.7852\n",
            "Epoch [10/20], Step [100/375], Loss: 0.6680\n",
            "Epoch [10/20], Step [200/375], Loss: 0.6719\n",
            "Epoch [10/20], Step [300/375], Loss: 0.7053\n",
            "Epoch [10/20], Validation Loss: 0.7763\n",
            "Epoch [11/20], Step [100/375], Loss: 0.7607\n",
            "Epoch [11/20], Step [200/375], Loss: 0.6984\n",
            "Epoch [11/20], Step [300/375], Loss: 0.7582\n",
            "Epoch [11/20], Validation Loss: 0.7657\n",
            "Epoch [12/20], Step [100/375], Loss: 0.7243\n",
            "Epoch [12/20], Step [200/375], Loss: 0.7794\n",
            "Epoch [12/20], Step [300/375], Loss: 0.7241\n",
            "Epoch [12/20], Validation Loss: 0.8047\n",
            "Epoch [13/20], Step [100/375], Loss: 0.6874\n",
            "Epoch [13/20], Step [200/375], Loss: 0.7167\n",
            "Epoch [13/20], Step [300/375], Loss: 0.6556\n",
            "Epoch [13/20], Validation Loss: 0.7750\n",
            "Epoch [14/20], Step [100/375], Loss: 0.7201\n",
            "Epoch [14/20], Step [200/375], Loss: 0.6016\n",
            "Epoch [14/20], Step [300/375], Loss: 0.7508\n",
            "Epoch [14/20], Validation Loss: 0.7602\n",
            "Epoch [15/20], Step [100/375], Loss: 0.7001\n",
            "Epoch [15/20], Step [200/375], Loss: 0.7475\n",
            "Epoch [15/20], Step [300/375], Loss: 0.7483\n",
            "Epoch [15/20], Validation Loss: 0.7647\n",
            "Epoch [16/20], Step [100/375], Loss: 0.7465\n",
            "Epoch [16/20], Step [200/375], Loss: 0.6269\n",
            "Epoch [16/20], Step [300/375], Loss: 0.6984\n",
            "Epoch [16/20], Validation Loss: 0.7950\n",
            "Epoch [17/20], Step [100/375], Loss: 0.6797\n",
            "Epoch [17/20], Step [200/375], Loss: 0.6526\n",
            "Epoch [17/20], Step [300/375], Loss: 0.7781\n",
            "Epoch [17/20], Validation Loss: 0.7670\n",
            "Epoch [18/20], Step [100/375], Loss: 0.6357\n",
            "Epoch [18/20], Step [200/375], Loss: 0.7040\n",
            "Epoch [18/20], Step [300/375], Loss: 0.7066\n",
            "Epoch [18/20], Validation Loss: 0.7865\n",
            "Epoch [19/20], Step [100/375], Loss: 0.7254\n",
            "Epoch [19/20], Step [200/375], Loss: 0.6429\n",
            "Epoch [19/20], Step [300/375], Loss: 0.6870\n",
            "Epoch [19/20], Validation Loss: 0.7581\n",
            "Epoch [20/20], Step [100/375], Loss: 0.7979\n",
            "Epoch [20/20], Step [200/375], Loss: 0.7628\n",
            "Epoch [20/20], Step [300/375], Loss: 0.7088\n",
            "Epoch [20/20], Validation Loss: 0.7742\n"
          ]
        }
      ],
      "source": [
        "train_model(model, train_loader, val_loader, 20, optimizer, scheduler, criterion)"
      ]
    },
    {
      "cell_type": "code",
      "execution_count": 33,
      "metadata": {
        "colab": {
          "base_uri": "https://localhost:8080/"
        },
        "id": "HcnP0EWG7Fi0",
        "outputId": "eacd71e7-aef9-4f2b-a5f1-c5957e6ecd08"
      },
      "outputs": [
        {
          "name": "stdout",
          "output_type": "stream",
          "text": [
            "Precision: 69.06311897862193%\n",
            "Recall: 62.515%\n",
            "F1 Score: 62.510933376798015%\n",
            "Accuracy: 62.515%\n",
            "Confusion Matrix:\n",
            " [[2881  565  112]\n",
            " [2800 5189 2631]\n",
            " [ 752  637 4433]]\n"
          ]
        }
      ],
      "source": [
        "evaluate_model(model, test_loader)"
      ]
    },
    {
      "cell_type": "code",
      "execution_count": 34,
      "metadata": {
        "colab": {
          "base_uri": "https://localhost:8080/",
          "height": 641
        },
        "id": "U3BS33pZQfvy",
        "outputId": "b52e226c-7e8a-4a2b-a918-64f62f42d272"
      },
      "outputs": [
        {
          "data": {
            "image/png": "[encoded data removed]",
            "text/plain": [
              "<Figure size 1000x700 with 2 Axes>"
            ]
          },
          "metadata": {},
          "output_type": "display_data"
        }
      ],
      "source": [
        "class_names = [\"Good\", \"Standard\", \"Poor\"]\n",
        "predictions, true_labels = get_all_predictions(model, test_loader)\n",
        "precision, recall, f1, accuracy, conf_matrix = compute_metrics(predictions, true_labels)\n",
        "plot_confusion_matrix(conf_matrix, class_names)"
      ]
    },
    {
      "cell_type": "markdown",
      "metadata": {
        "id": "mMFIbMcacmop"
      },
      "source": [
        "# Architecture 3: VGG like architecture with 6 convolution layers, maxpooling every two layers, two dropout layers"
      ]
    },
    {
      "cell_type": "code",
      "execution_count": 29,
      "metadata": {
        "id": "iZ4vtgL5QiWn"
      },
      "outputs": [],
      "source": [
        "class VGG_CNN(nn.Module):\n",
        "    def __init__(self):\n",
        "        super(VGG_CNN, self).__init__()\n",
        "        self.features = nn.Sequential(\n",
        "            nn.Conv1d(1, 64, kernel_size=3, padding=1),\n",
        "            nn.ReLU(),\n",
        "            nn.Conv1d(64, 64, kernel_size=3, padding=1),\n",
        "            nn.ReLU(),\n",
        "            nn.MaxPool1d(2, 2),\n",
        "\n",
        "            nn.Conv1d(64, 128, kernel_size=3, padding=1),\n",
        "            nn.ReLU(),\n",
        "            nn.Conv1d(128, 128, kernel_size=3, padding=1),\n",
        "            nn.ReLU(),\n",
        "            nn.MaxPool1d(2, 2),\n",
        "\n",
        "            nn.Conv1d(128, 256, kernel_size=3, padding=1),\n",
        "            nn.ReLU(),\n",
        "            nn.Conv1d(256, 256, kernel_size=3, padding=1),\n",
        "            nn.ReLU(),\n",
        "            nn.MaxPool1d(2, 2)\n",
        "        )\n",
        "\n",
        "        self.classifier = nn.Sequential(\n",
        "            nn.Dropout(0.5),\n",
        "            nn.Linear(256, 128),\n",
        "            nn.ReLU(),\n",
        "            nn.Dropout(0.5),\n",
        "            nn.Linear(128, 3)\n",
        "        )\n",
        "\n",
        "    def forward(self, x):\n",
        "        x = x.unsqueeze(1)  \n",
        "        x = self.features(x)\n",
        "        x = torch.flatten(x, 1)\n",
        "        x = self.classifier(x)\n",
        "        return x\n"
      ]
    },
    {
      "cell_type": "code",
      "execution_count": 30,
      "metadata": {
        "id": "v6TqlFsVcsBW"
      },
      "outputs": [],
      "source": [
        "model = VGG_CNN()\n",
        "model.cuda()\n",
        "\n",
        "criterion = nn.CrossEntropyLoss()\n",
        "optimizer = torch.optim.Adam(model.parameters(), lr=0.0001)\n",
        "#optimizer = optim.SGD(params = model.parameters(), lr = 0.0005)\n",
        "#optimizer = optim.RMSprop(params = model.parameters(), lr = 0.0001)\n",
        "#scheduler = StepLR(optimizer, step_size=10, gamma=0.1)\n",
        "scheduler = torch.optim.lr_scheduler.ReduceLROnPlateau(optimizer, 'min', patience=5)"
      ]
    },
    {
      "cell_type": "code",
      "execution_count": 3,
      "metadata": {
        "colab": {
          "base_uri": "https://localhost:8080/"
        },
        "id": "0Qo6f0vtcvjU",
        "outputId": "c897d89f-58ff-4c94-ba5e-3d65296e904e"
      },
      "outputs": [],
      "source": [
        "train_model(model, train_loader, val_loader, 20, optimizer, scheduler, criterion)"
      ]
    },
    {
      "cell_type": "code",
      "execution_count": 1,
      "metadata": {
        "colab": {
          "base_uri": "https://localhost:8080/"
        },
        "id": "KcrmsPOXcxtY",
        "outputId": "d368058b-5171-4ab2-825a-87c9767a763e"
      },
      "outputs": [],
      "source": [
        "evaluate_model(model, test_loader)"
      ]
    },
    {
      "cell_type": "code",
      "execution_count": 2,
      "metadata": {
        "colab": {
          "base_uri": "https://localhost:8080/",
          "height": 641
        },
        "id": "hYnXVYezc01R",
        "outputId": "ef8293b4-03be-40e7-9ba0-557d221cdea7"
      },
      "outputs": [],
      "source": [
        "class_names = [\"Good\", \"Standard\", \"Poor\"]\n",
        "predictions, true_labels = get_all_predictions(model, test_loader)\n",
        "precision, recall, f1, accuracy, conf_matrix = compute_metrics(predictions, true_labels)\n",
        "plot_confusion_matrix(conf_matrix, class_names)"
      ]
    }
  ],
  "metadata": {
    "accelerator": "GPU",
    "colab": {
      "gpuType": "T4",
      "provenance": []
    },
    "kernelspec": {
      "display_name": "Python 3",
      "name": "python3"
    },
    "language_info": {
      "codemirror_mode": {
        "name": "ipython",
        "version": 3
      },
      "file_extension": ".py",
      "mimetype": "text/x-python",
      "name": "python",
      "nbconvert_exporter": "python",
      "pygments_lexer": "ipython3",
      "version": "3.11.5"
    }
  },
  "nbformat": 4,
  "nbformat_minor": 0
}
